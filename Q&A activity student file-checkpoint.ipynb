{
 "cells": [
  {
   "cell_type": "markdown",
   "metadata": {},
   "source": [
    "## 1. Complete the following code to find the area of an equilateral triangle. Output should be as displayed"
   ]
  },
  {
   "cell_type": "code",
   "execution_count": 1,
   "metadata": {},
   "outputs": [
    {
     "name": "stdout",
     "output_type": "stream",
     "text": [
      "Enter the side of the equilateral triangle: 5\n",
      "Area= 10.825317547305483\n"
     ]
    }
   ],
   "source": [
    "import math\n",
    "side = float(input(\"Enter the side of the equilateral triangle: \"))\n",
    "area = ((math.sqrt(3))/4)*pow(side,2)\n",
    "print('Area=',area)"
   ]
  },
  {
   "cell_type": "markdown",
   "metadata": {},
   "source": [
    "## 2. Write a program to count the number of each characters in a string"
   ]
  },
  {
   "cell_type": "code",
   "execution_count": 2,
   "metadata": {},
   "outputs": [
    {
     "name": "stdout",
     "output_type": "stream",
     "text": [
      "p = 2\n",
      "y = 1\n",
      "t = 1\n",
      "h = 1\n",
      "o = 2\n",
      "n = 1\n",
      "  = 1\n",
      "r = 2\n",
      "g = 1\n",
      "a = 1\n",
      "m = 1\n"
     ]
    }
   ],
   "source": [
    "str='python program'\n",
    "list1=[]\n",
    "for i in str:\n",
    "    if i not in list1:\n",
    "        list1.append(i)\n",
    "        print(i,'=',str.count(i))"
   ]
  },
  {
   "cell_type": "markdown",
   "metadata": {},
   "source": [
    "## 3. Write a program to find the area and perimeter of a rectangle using functions"
   ]
  },
  {
   "cell_type": "code",
   "execution_count": 3,
   "metadata": {},
   "outputs": [
    {
     "name": "stdout",
     "output_type": "stream",
     "text": [
      "enter length of rectangle5\n",
      "enter width of rectangle4\n",
      "area of rectangle is 20.0\n",
      "perimeter of rectangle is 18.0\n"
     ]
    }
   ],
   "source": [
    "def calculate(l,w):\n",
    "    area=l*w\n",
    "    print('area of rectangle is',area)\n",
    "    perimeter=2*(l+w)\n",
    "    print(\"perimeter of rectangle is\",perimeter)\n",
    "l=float(input('enter length of rectangle'))\n",
    "w=float(input('enter width of rectangle'))\n",
    "calculate(l,w)"
   ]
  },
  {
   "cell_type": "markdown",
   "metadata": {},
   "source": [
    "## 4. Write a program to print the fibonacci series till a specified number"
   ]
  },
  {
   "cell_type": "code",
   "execution_count": 4,
   "metadata": {},
   "outputs": [
    {
     "name": "stdout",
     "output_type": "stream",
     "text": [
      "enter the limit5\n",
      "fibonacci series is\n",
      "0\n",
      "1\n",
      "1\n",
      "2\n",
      "3\n"
     ]
    }
   ],
   "source": [
    "ch=int(input('enter the limit'))\n",
    "first=0\n",
    "second=1\n",
    "sum=0\n",
    "print('fibonacci series is')\n",
    "for i in range(0,ch):\n",
    "    print(sum)\n",
    "    first=second\n",
    "    second=sum\n",
    "    sum=first+second\n",
    "      "
   ]
  },
  {
   "cell_type": "markdown",
   "metadata": {},
   "source": [
    "## 5. Complete the following code to find the minimum of 3 number using conditional statements. Output should be as displayed"
   ]
  },
  {
   "cell_type": "code",
   "execution_count": 9,
   "metadata": {},
   "outputs": [
    {
     "name": "stdout",
     "output_type": "stream",
     "text": [
      "Enter three numbers followed by  : -19 -100 -9\n",
      "First number : -19\n",
      "Second number : -100\n",
      "Third number : -9\n",
      "-100  is smallest\n"
     ]
    }
   ],
   "source": [
    "a,b,c = input(\"Enter three numbers followed by  : \").split()\n",
    "print(\"First number :\",a)\n",
    "print(\"Second number :\",b)\n",
    "print(\"Third number :\",c)\n",
    "if (a == b == c):\n",
    "    print(\"Entered numbers are equal!!!\")\n",
    "elif (a < b) and (a < c):\n",
    "    print(a,\" is smallest\")\n",
    "elif (b <  a) and (b < c):\n",
    "    print(b,\" is smallest\")\n",
    "else:\n",
    "    print(c,\" is smallest\")"
   ]
  },
  {
   "cell_type": "markdown",
   "metadata": {},
   "source": [
    "## 6. Write a program to print star pyramind. The number of rows should be taken as input from the user"
   ]
  },
  {
   "cell_type": "code",
   "execution_count": 8,
   "metadata": {},
   "outputs": [
    {
     "name": "stdout",
     "output_type": "stream",
     "text": [
      "enter number of rows5\n",
      "    * \n",
      "   * * \n",
      "  * * * \n",
      " * * * * \n",
      "* * * * * \n"
     ]
    }
   ],
   "source": [
    "n=int(input(\"enter number of rows\"))\n",
    "for i in range(n):\n",
    "    for j in range(n-i-1):\n",
    "        print(' ',end='')\n",
    "    for j in range(i+1):\n",
    "        print('*',end=' ')\n",
    "    print()"
   ]
  },
  {
   "cell_type": "markdown",
   "metadata": {},
   "source": [
    "## 7. Complete the following code to convert hour into seconds. Output should be as displayed"
   ]
  },
  {
   "cell_type": "code",
   "execution_count": 5,
   "metadata": {},
   "outputs": [
    {
     "name": "stdout",
     "output_type": "stream",
     "text": [
      "enter time in hours24\n",
      "24  Hour is equal to 86400  Seconds\n"
     ]
    }
   ],
   "source": [
    "def to_seconds(t):\n",
    "    t=t*60*60\n",
    "    return t\n",
    "time_in_hours = int(input('enter time in hours'))\n",
    "print(time_in_hours ,\" Hour is equal to\" ,to_seconds(time_in_hours) ,\" Seconds\")"
   ]
  },
  {
   "cell_type": "markdown",
   "metadata": {},
   "source": [
    "## 8. Write a program to print multiplication table as below"
   ]
  },
  {
   "cell_type": "code",
   "execution_count": 6,
   "metadata": {},
   "outputs": [
    {
     "name": "stdout",
     "output_type": "stream",
     "text": [
      "enter the number67\n",
      "enter the range10\n",
      "multiplication table of : 67\n",
      "67 * 1 = 67\n",
      "67 * 2 = 134\n",
      "67 * 3 = 201\n",
      "67 * 4 = 268\n",
      "67 * 5 = 335\n",
      "67 * 6 = 402\n",
      "67 * 7 = 469\n",
      "67 * 8 = 536\n",
      "67 * 9 = 603\n",
      "67 * 10 = 670\n"
     ]
    }
   ],
   "source": [
    "n=int(input('enter the number'))\n",
    "n_range=int(input('enter the range'))\n",
    "print('multiplication table of :',n)\n",
    "for i in range (1,n_range+1):\n",
    "    print(n,'*',i,'=',n*i)"
   ]
  },
  {
   "cell_type": "markdown",
   "metadata": {},
   "source": [
    "## 9. Write a program to take your 5 favorite food as list and print each as 'I like Biriyani'"
   ]
  },
  {
   "cell_type": "code",
   "execution_count": 7,
   "metadata": {},
   "outputs": [
    {
     "name": "stdout",
     "output_type": "stream",
     "text": [
      "enter your favorite food:Biriyani\n",
      "enter your favorite food:Ice cream\n",
      "enter your favorite food:Fried rice\n",
      "enter your favorite food:Chapathi\n",
      "enter your favorite food:Noodles\n",
      "I like Biriyani\n",
      "I like Ice cream\n",
      "I like Fried rice\n",
      "I like Chapathi\n",
      "I like Noodles\n"
     ]
    }
   ],
   "source": [
    "food_list=[]\n",
    "for i in range(0,5):\n",
    "    food=input('enter your favorite food:')\n",
    "    food_list.append(food)\n",
    "for j in food_list:\n",
    "        print('I like',j)\n",
    "     "
   ]
  },
  {
   "cell_type": "code",
   "execution_count": null,
   "metadata": {},
   "outputs": [],
   "source": []
  }
 ],
 "metadata": {
  "kernelspec": {
   "display_name": "Python 3 (ipykernel)",
   "language": "python",
   "name": "python3"
  },
  "language_info": {
   "codemirror_mode": {
    "name": "ipython",
    "version": 3
   },
   "file_extension": ".py",
   "mimetype": "text/x-python",
   "name": "python",
   "nbconvert_exporter": "python",
   "pygments_lexer": "ipython3",
   "version": "3.9.7"
  }
 },
 "nbformat": 4,
 "nbformat_minor": 4
}
